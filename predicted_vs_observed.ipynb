{
 "cells": [
  {
   "cell_type": "code",
   "execution_count": 1,
   "metadata": {},
   "outputs": [],
   "source": [
    "from bs4 import BeautifulSoup\n",
    "import pandas as pd\n",
    "import requests"
   ]
  },
  {
   "cell_type": "code",
   "execution_count": 2,
   "metadata": {},
   "outputs": [],
   "source": [
    "url='https://www.meteo-paris.com/ile-de-france/previsions'"
   ]
  },
  {
   "cell_type": "code",
   "execution_count": 3,
   "metadata": {},
   "outputs": [
    {
     "name": "stdout",
     "output_type": "stream",
     "text": [
      "OK\n"
     ]
    }
   ],
   "source": [
    "r=requests.get(url)\n",
    "status = r.status_code\n",
    "\n",
    "if status==200:\n",
    "    print('OK')\n",
    "elif status==404:\n",
    "    print(\"Error\")\n",
    "elif status==403:\n",
    "    print(\"Access forbidden\")\n",
    "elif status==500:\n",
    "    print(\"Internal server error\")"
   ]
  },
  {
   "cell_type": "code",
   "execution_count": 4,
   "metadata": {},
   "outputs": [],
   "source": [
    "s = BeautifulSoup(r.content,'html.parser')"
   ]
  },
  {
   "cell_type": "code",
   "execution_count": 5,
   "metadata": {},
   "outputs": [
    {
     "name": "stdout",
     "output_type": "stream",
     "text": [
      "[<div class=\"forecast-line__pictos--temp bg-plus-7\">7</div>, <div class=\"forecast-line__pictos--temp bg-plus-15\">15</div>, <div class=\"forecast-line__pictos--temp bg-plus-5\">5</div>, <div class=\"forecast-line__pictos--temp bg-plus-14\">14</div>, <div class=\"forecast-line__pictos--temp bg-plus-3\">3</div>, <div class=\"forecast-line__pictos--temp bg-plus-15\">15</div>, <div class=\"forecast-line__pictos--temp bg-plus-5\">5</div>, <div class=\"forecast-line__pictos--temp bg-plus-8\">8</div>, <div class=\"forecast-line__pictos--temp bg-plus-1\">1</div>, <div class=\"forecast-line__pictos--temp bg-plus-7\">7</div>, <div class=\"forecast-line__pictos--temp bg-minus-0\">0</div>, <div class=\"forecast-line__pictos--temp bg-plus-9\">9</div>, <div class=\"forecast-line__pictos--temp bg-plus-3\">3</div>, <div class=\"forecast-line__pictos--temp bg-plus-11\">11</div>, <div class=\"forecast-line__pictos--temp bg-plus-4\">4</div>, <div class=\"forecast-line__pictos--temp bg-plus-9\">9</div>, <div class=\"forecast-line__pictos--temp bg-plus-1\">1</div>, <div class=\"forecast-line__pictos--temp bg-plus-8\">8</div>]\n"
     ]
    }
   ],
   "source": [
    "div_pred_temp = []\n",
    "for text in s.find_all('div',{'class':'forecast-line__pictos--temp'}):\n",
    "    b = text\n",
    "    div_pred_temp.append(b)\n",
    "    \n",
    "print(div_pred_temp)"
   ]
  },
  {
   "cell_type": "code",
   "execution_count": 6,
   "metadata": {},
   "outputs": [
    {
     "name": "stdout",
     "output_type": "stream",
     "text": [
      "['02/04/2021', '5', '14', '3', '15', '5', '8', '1', '7', '0', '9', '3', '11', '4', '9', '1', '8']\n"
     ]
    }
   ],
   "source": [
    "from datetime import date\n",
    "\n",
    "today = date.today().strftime(\"%d/%m/%Y\")\n",
    "pred_temp = [pt.get_text() for pt in div_pred_temp][2:]\n",
    "pred_temp.insert(0,today)\n",
    "print(pred_temp)"
   ]
  },
  {
   "cell_type": "code",
   "execution_count": 7,
   "metadata": {},
   "outputs": [
    {
     "data": {
      "text/html": [
       "<div>\n",
       "<style scoped>\n",
       "    .dataframe tbody tr th:only-of-type {\n",
       "        vertical-align: middle;\n",
       "    }\n",
       "\n",
       "    .dataframe tbody tr th {\n",
       "        vertical-align: top;\n",
       "    }\n",
       "\n",
       "    .dataframe thead th {\n",
       "        text-align: right;\n",
       "    }\n",
       "</style>\n",
       "<table border=\"1\" class=\"dataframe\">\n",
       "  <thead>\n",
       "    <tr style=\"text-align: right;\">\n",
       "      <th></th>\n",
       "      <th>Date</th>\n",
       "      <th>Time</th>\n",
       "      <th>Temp_Out</th>\n",
       "      <th>Hi_Temp</th>\n",
       "      <th>Low_Temp</th>\n",
       "      <th>Out_Hum</th>\n",
       "      <th>Dew_Pt</th>\n",
       "      <th>Wind_Speed</th>\n",
       "      <th>Wind_Dir</th>\n",
       "      <th>Wind_Run</th>\n",
       "      <th>...</th>\n",
       "      <th>In_Hum</th>\n",
       "      <th>In_Dew</th>\n",
       "      <th>In_Heat</th>\n",
       "      <th>In_EMC</th>\n",
       "      <th>In_Air_Dens</th>\n",
       "      <th>Temp_2nd</th>\n",
       "      <th>Wind_Samp</th>\n",
       "      <th>Wind_TX</th>\n",
       "      <th>ISS_Recept</th>\n",
       "      <th>Arc_Int</th>\n",
       "    </tr>\n",
       "  </thead>\n",
       "  <tbody>\n",
       "    <tr>\n",
       "      <th>0</th>\n",
       "      <td>1/04/21</td>\n",
       "      <td>0:01</td>\n",
       "      <td>19.5</td>\n",
       "      <td>19.5</td>\n",
       "      <td>19.5</td>\n",
       "      <td>45</td>\n",
       "      <td>7.2</td>\n",
       "      <td>0.0</td>\n",
       "      <td>---</td>\n",
       "      <td>0.0</td>\n",
       "      <td>...</td>\n",
       "      <td>28</td>\n",
       "      <td>7.4</td>\n",
       "      <td>26.3</td>\n",
       "      <td>5.72</td>\n",
       "      <td>1.1711</td>\n",
       "      <td>---</td>\n",
       "      <td>23</td>\n",
       "      <td>1</td>\n",
       "      <td>100.0</td>\n",
       "      <td>1</td>\n",
       "    </tr>\n",
       "    <tr>\n",
       "      <th>1</th>\n",
       "      <td>1/04/21</td>\n",
       "      <td>0:02</td>\n",
       "      <td>19.5</td>\n",
       "      <td>19.5</td>\n",
       "      <td>19.5</td>\n",
       "      <td>45</td>\n",
       "      <td>7.2</td>\n",
       "      <td>0.0</td>\n",
       "      <td>---</td>\n",
       "      <td>0.0</td>\n",
       "      <td>...</td>\n",
       "      <td>28</td>\n",
       "      <td>7.4</td>\n",
       "      <td>26.3</td>\n",
       "      <td>5.72</td>\n",
       "      <td>1.1712</td>\n",
       "      <td>---</td>\n",
       "      <td>23</td>\n",
       "      <td>1</td>\n",
       "      <td>100.0</td>\n",
       "      <td>1</td>\n",
       "    </tr>\n",
       "    <tr>\n",
       "      <th>2</th>\n",
       "      <td>1/04/21</td>\n",
       "      <td>0:03</td>\n",
       "      <td>19.5</td>\n",
       "      <td>19.5</td>\n",
       "      <td>19.5</td>\n",
       "      <td>45</td>\n",
       "      <td>7.2</td>\n",
       "      <td>0.0</td>\n",
       "      <td>---</td>\n",
       "      <td>0.0</td>\n",
       "      <td>...</td>\n",
       "      <td>28</td>\n",
       "      <td>7.5</td>\n",
       "      <td>26.4</td>\n",
       "      <td>5.71</td>\n",
       "      <td>1.1706</td>\n",
       "      <td>---</td>\n",
       "      <td>24</td>\n",
       "      <td>1</td>\n",
       "      <td>100.0</td>\n",
       "      <td>1</td>\n",
       "    </tr>\n",
       "    <tr>\n",
       "      <th>3</th>\n",
       "      <td>1/04/21</td>\n",
       "      <td>0:04</td>\n",
       "      <td>19.4</td>\n",
       "      <td>19.5</td>\n",
       "      <td>19.4</td>\n",
       "      <td>45</td>\n",
       "      <td>7.2</td>\n",
       "      <td>0.0</td>\n",
       "      <td>---</td>\n",
       "      <td>0.0</td>\n",
       "      <td>...</td>\n",
       "      <td>28</td>\n",
       "      <td>7.6</td>\n",
       "      <td>26.6</td>\n",
       "      <td>5.71</td>\n",
       "      <td>1.1701</td>\n",
       "      <td>---</td>\n",
       "      <td>22</td>\n",
       "      <td>1</td>\n",
       "      <td>95.7</td>\n",
       "      <td>1</td>\n",
       "    </tr>\n",
       "    <tr>\n",
       "      <th>4</th>\n",
       "      <td>1/04/21</td>\n",
       "      <td>0:05</td>\n",
       "      <td>19.4</td>\n",
       "      <td>19.4</td>\n",
       "      <td>19.4</td>\n",
       "      <td>45</td>\n",
       "      <td>7.2</td>\n",
       "      <td>0.0</td>\n",
       "      <td>---</td>\n",
       "      <td>0.0</td>\n",
       "      <td>...</td>\n",
       "      <td>28</td>\n",
       "      <td>7.6</td>\n",
       "      <td>26.6</td>\n",
       "      <td>5.71</td>\n",
       "      <td>1.1701</td>\n",
       "      <td>---</td>\n",
       "      <td>23</td>\n",
       "      <td>1</td>\n",
       "      <td>100.0</td>\n",
       "      <td>1</td>\n",
       "    </tr>\n",
       "  </tbody>\n",
       "</table>\n",
       "<p>5 rows × 31 columns</p>\n",
       "</div>"
      ],
      "text/plain": [
       "      Date  Time  Temp_Out  Hi_Temp  Low_Temp  Out_Hum  Dew_Pt  Wind_Speed  \\\n",
       "0  1/04/21  0:01      19.5     19.5      19.5       45     7.2         0.0   \n",
       "1  1/04/21  0:02      19.5     19.5      19.5       45     7.2         0.0   \n",
       "2  1/04/21  0:03      19.5     19.5      19.5       45     7.2         0.0   \n",
       "3  1/04/21  0:04      19.4     19.5      19.4       45     7.2         0.0   \n",
       "4  1/04/21  0:05      19.4     19.4      19.4       45     7.2         0.0   \n",
       "\n",
       "  Wind_Dir  Wind_Run  ...  In_Hum In_Dew  In_Heat  In_EMC  In_Air_Dens  \\\n",
       "0      ---       0.0  ...      28    7.4     26.3    5.72       1.1711   \n",
       "1      ---       0.0  ...      28    7.4     26.3    5.72       1.1712   \n",
       "2      ---       0.0  ...      28    7.5     26.4    5.71       1.1706   \n",
       "3      ---       0.0  ...      28    7.6     26.6    5.71       1.1701   \n",
       "4      ---       0.0  ...      28    7.6     26.6    5.71       1.1701   \n",
       "\n",
       "   Temp_2nd  Wind_Samp  Wind_TX  ISS_Recept  Arc_Int  \n",
       "0       ---         23        1       100.0        1  \n",
       "1       ---         23        1       100.0        1  \n",
       "2       ---         24        1       100.0        1  \n",
       "3       ---         22        1        95.7        1  \n",
       "4       ---         23        1       100.0        1  \n",
       "\n",
       "[5 rows x 31 columns]"
      ]
     },
     "execution_count": 7,
     "metadata": {},
     "output_type": "execute_result"
    }
   ],
   "source": [
    "from io import StringIO\n",
    "\n",
    "url_data='https://static.meteo-paris.com/station/downld02.txt'\n",
    "r_data=requests.get(url_data)\n",
    "\n",
    "aux = StringIO(r_data.text)\n",
    "col_names = ['Date','Time','Temp_Out','Hi_Temp','Low_Temp','Out_Hum','Dew_Pt','Wind_Speed',\n",
    "            'Wind_Dir','Wind_Run','Hi_Speed','Hi_Dir','Wind_Chill','Heat_Index','THW_Index','Bar',\n",
    "            'Rain','Rain_Rate','Heat_DD','Cool_DD','In_Temp','In_Hum','In_Dew','In_Heat',\n",
    "             'In_EMC','In_Air_Dens','Temp_2nd','Wind_Samp','Wind_TX','ISS_Recept','Arc_Int']\n",
    "df_list = pd.read_csv(aux,skiprows=3,delimiter=\"\\s+\",header=None,names=col_names)\n",
    "df_list.head()"
   ]
  },
  {
   "cell_type": "code",
   "execution_count": 8,
   "metadata": {},
   "outputs": [
    {
     "data": {
      "text/plain": [
       "nan"
      ]
     },
     "execution_count": 8,
     "metadata": {},
     "output_type": "execute_result"
    }
   ],
   "source": [
    "df_list[df_list['Date']=='28/03/21']['Temp_Out'].max()"
   ]
  },
  {
   "cell_type": "code",
   "execution_count": 9,
   "metadata": {},
   "outputs": [
    {
     "data": {
      "text/plain": [
       "datetime.datetime(2021, 3, 28, 0, 2)"
      ]
     },
     "execution_count": 9,
     "metadata": {},
     "output_type": "execute_result"
    }
   ],
   "source": [
    "from datetime import datetime,timedelta\n",
    "\n",
    "yesterday = datetime.now() - timedelta(1)\n",
    "datetime.strftime(yesterday, '%Y-%m-%d')\n",
    "\n",
    "datetime.strptime('28/03/21 0:02', '%d/%m/%y %H:%M')"
   ]
  },
  {
   "cell_type": "code",
   "execution_count": 10,
   "metadata": {
    "scrolled": false
   },
   "outputs": [
    {
     "data": {
      "text/plain": [
       "0      2021-01-04 00:01:00\n",
       "1      2021-01-04 00:02:00\n",
       "2      2021-01-04 00:03:00\n",
       "3      2021-01-04 00:04:00\n",
       "4      2021-01-04 00:05:00\n",
       "               ...        \n",
       "2669   2021-02-04 20:30:00\n",
       "2670   2021-02-04 20:31:00\n",
       "2671   2021-02-04 20:32:00\n",
       "2672   2021-02-04 20:33:00\n",
       "2673   2021-02-04 20:34:00\n",
       "Length: 2674, dtype: datetime64[ns]"
      ]
     },
     "execution_count": 10,
     "metadata": {},
     "output_type": "execute_result"
    }
   ],
   "source": [
    "#for d in df_list.iterrows():\n",
    "    #datetime.strptime(d[1]['Date'], '%d/%m/%y')\n",
    "    \n",
    "pd.to_datetime(df_list['Date'] + ' ' + df_list['Time'])\n",
    "\n",
    "#df_list['Date_format']=datetime.strptime(df_list['Date'], '%d/%m/%y')"
   ]
  },
  {
   "cell_type": "code",
   "execution_count": 11,
   "metadata": {},
   "outputs": [],
   "source": [
    "### NOAA documentation\n",
    "### https://www.ncdc.noaa.gov/cdo-web/webservices/v2#gettingStarted\n",
    "### dataset='https://www.ncdc.noaa.gov/cdo-web/api/v2/datasets'"
   ]
  },
  {
   "cell_type": "code",
   "execution_count": 79,
   "metadata": {},
   "outputs": [
    {
     "data": {
      "text/html": [
       "<div>\n",
       "<style scoped>\n",
       "    .dataframe tbody tr th:only-of-type {\n",
       "        vertical-align: middle;\n",
       "    }\n",
       "\n",
       "    .dataframe tbody tr th {\n",
       "        vertical-align: top;\n",
       "    }\n",
       "\n",
       "    .dataframe thead th {\n",
       "        text-align: right;\n",
       "    }\n",
       "</style>\n",
       "<table border=\"1\" class=\"dataframe\">\n",
       "  <thead>\n",
       "    <tr style=\"text-align: right;\">\n",
       "      <th></th>\n",
       "      <th>date</th>\n",
       "      <th>datatype</th>\n",
       "      <th>station</th>\n",
       "      <th>attributes</th>\n",
       "      <th>value</th>\n",
       "    </tr>\n",
       "  </thead>\n",
       "  <tbody>\n",
       "    <tr>\n",
       "      <th>0</th>\n",
       "      <td>2000-03-01T00:00:00</td>\n",
       "      <td>PRCP</td>\n",
       "      <td>GHCND:EI000003969</td>\n",
       "      <td>,,E,</td>\n",
       "      <td>1.1</td>\n",
       "    </tr>\n",
       "    <tr>\n",
       "      <th>1</th>\n",
       "      <td>2000-03-01T00:00:00</td>\n",
       "      <td>TAVG</td>\n",
       "      <td>GHCND:EI000003969</td>\n",
       "      <td>H,,S,</td>\n",
       "      <td>4.1</td>\n",
       "    </tr>\n",
       "    <tr>\n",
       "      <th>2</th>\n",
       "      <td>2000-03-01T00:00:00</td>\n",
       "      <td>TMAX</td>\n",
       "      <td>GHCND:EI000003969</td>\n",
       "      <td>,,E,</td>\n",
       "      <td>9.5</td>\n",
       "    </tr>\n",
       "    <tr>\n",
       "      <th>3</th>\n",
       "      <td>2000-03-01T00:00:00</td>\n",
       "      <td>TMIN</td>\n",
       "      <td>GHCND:EI000003969</td>\n",
       "      <td>,,E,</td>\n",
       "      <td>0.9</td>\n",
       "    </tr>\n",
       "    <tr>\n",
       "      <th>4</th>\n",
       "      <td>2000-03-02T00:00:00</td>\n",
       "      <td>PRCP</td>\n",
       "      <td>GHCND:EI000003969</td>\n",
       "      <td>,,E,</td>\n",
       "      <td>6.7</td>\n",
       "    </tr>\n",
       "    <tr>\n",
       "      <th>5</th>\n",
       "      <td>2000-03-02T00:00:00</td>\n",
       "      <td>TAVG</td>\n",
       "      <td>GHCND:EI000003969</td>\n",
       "      <td>H,,S,</td>\n",
       "      <td>7.9</td>\n",
       "    </tr>\n",
       "    <tr>\n",
       "      <th>6</th>\n",
       "      <td>2000-03-02T00:00:00</td>\n",
       "      <td>TMAX</td>\n",
       "      <td>GHCND:EI000003969</td>\n",
       "      <td>,,E,</td>\n",
       "      <td>11.0</td>\n",
       "    </tr>\n",
       "    <tr>\n",
       "      <th>7</th>\n",
       "      <td>2000-03-02T00:00:00</td>\n",
       "      <td>TMIN</td>\n",
       "      <td>GHCND:EI000003969</td>\n",
       "      <td>,,E,</td>\n",
       "      <td>2.5</td>\n",
       "    </tr>\n",
       "    <tr>\n",
       "      <th>8</th>\n",
       "      <td>2000-03-03T00:00:00</td>\n",
       "      <td>PRCP</td>\n",
       "      <td>GHCND:EI000003969</td>\n",
       "      <td>,,E,</td>\n",
       "      <td>0.1</td>\n",
       "    </tr>\n",
       "    <tr>\n",
       "      <th>9</th>\n",
       "      <td>2000-03-03T00:00:00</td>\n",
       "      <td>TAVG</td>\n",
       "      <td>GHCND:EI000003969</td>\n",
       "      <td>H,,S,</td>\n",
       "      <td>4.8</td>\n",
       "    </tr>\n",
       "  </tbody>\n",
       "</table>\n",
       "</div>"
      ],
      "text/plain": [
       "                  date datatype            station attributes  value\n",
       "0  2000-03-01T00:00:00     PRCP  GHCND:EI000003969       ,,E,    1.1\n",
       "1  2000-03-01T00:00:00     TAVG  GHCND:EI000003969      H,,S,    4.1\n",
       "2  2000-03-01T00:00:00     TMAX  GHCND:EI000003969       ,,E,    9.5\n",
       "3  2000-03-01T00:00:00     TMIN  GHCND:EI000003969       ,,E,    0.9\n",
       "4  2000-03-02T00:00:00     PRCP  GHCND:EI000003969       ,,E,    6.7\n",
       "5  2000-03-02T00:00:00     TAVG  GHCND:EI000003969      H,,S,    7.9\n",
       "6  2000-03-02T00:00:00     TMAX  GHCND:EI000003969       ,,E,   11.0\n",
       "7  2000-03-02T00:00:00     TMIN  GHCND:EI000003969       ,,E,    2.5\n",
       "8  2000-03-03T00:00:00     PRCP  GHCND:EI000003969       ,,E,    0.1\n",
       "9  2000-03-03T00:00:00     TAVG  GHCND:EI000003969      H,,S,    4.8"
      ]
     },
     "execution_count": 79,
     "metadata": {},
     "output_type": "execute_result"
    }
   ],
   "source": [
    "#Most diffifcult part is to get the GHCND code for locations\n",
    "\n",
    "dataset='GHCND'\n",
    "location=\"GHCND:FR000007150\" #Paris Montsouris\n",
    "location=\"GHCND:FRM00007149\" #Paris Orly\n",
    "location=\"GHCND:EI000003969\" #Dublin Phoenix Park\n",
    "n_token='VMPMXiToPnVyavbJBWucazFqvkfkQnAD'\n",
    "s_date = '2000-03-01'\n",
    "e_date = '2000-10-01'\n",
    "\n",
    "weathers_url=\"https://www.ncdc.noaa.gov/cdo-web/api/v2/data/\"\n",
    "params='stationid=' + location + '&' 'datasetid=' + dataset + '&' + 'startdate=' + s_date + '&' + 'enddate=' + e_date + '&' + 'limit=1000' + '&' + 'units=metric'# + '&datatypeid=TMAX'\n",
    "noaa_token = {'token': n_token}\n",
    "\n",
    "req = requests.get(weathers_url, params=params, headers=noaa_token)\n",
    "df = pd.DataFrame(req.json()['results'])\n",
    "df.head(10)"
   ]
  },
  {
   "cell_type": "code",
   "execution_count": null,
   "metadata": {},
   "outputs": [],
   "source": []
  }
 ],
 "metadata": {
  "kernelspec": {
   "display_name": "Python 3",
   "language": "python",
   "name": "python3"
  },
  "language_info": {
   "codemirror_mode": {
    "name": "ipython",
    "version": 3
   },
   "file_extension": ".py",
   "mimetype": "text/x-python",
   "name": "python",
   "nbconvert_exporter": "python",
   "pygments_lexer": "ipython3",
   "version": "3.8.5"
  }
 },
 "nbformat": 4,
 "nbformat_minor": 4
}
